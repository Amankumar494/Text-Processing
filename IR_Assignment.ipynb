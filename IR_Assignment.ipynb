{
 "cells": [
  {
   "cell_type": "code",
   "execution_count": 1,
   "id": "00b001ee",
   "metadata": {},
   "outputs": [
    {
     "name": "stdout",
     "output_type": "stream",
     "text": [
      "Requirement already satisfied: numpy==1.19.4 in d:\\dc++\\python\\lib\\site-packages (from -r requirements.txt (line 1)) (1.19.4)\n",
      "Requirement already satisfied: beautifulsoup4==4.9.3 in d:\\dc++\\python\\lib\\site-packages (from -r requirements.txt (line 2)) (4.9.3)\n",
      "Requirement already satisfied: tqdm==4.47.0 in d:\\dc++\\python\\lib\\site-packages (from -r requirements.txt (line 3)) (4.47.0)\n",
      "Requirement already satisfied: gensim==4.0.1 in d:\\dc++\\python\\lib\\site-packages (from -r requirements.txt (line 4)) (4.0.1)\n",
      "Requirement already satisfied: soupsieve>1.2 in d:\\dc++\\python\\lib\\site-packages (from beautifulsoup4==4.9.3->-r requirements.txt (line 2)) (2.2.1)\n",
      "Requirement already satisfied: scipy>=0.18.1 in d:\\dc++\\python\\lib\\site-packages (from gensim==4.0.1->-r requirements.txt (line 4)) (1.6.3)\n",
      "Requirement already satisfied: smart_open>=1.8.1 in d:\\dc++\\python\\lib\\site-packages (from gensim==4.0.1->-r requirements.txt (line 4)) (5.0.0)\n"
     ]
    }
   ],
   "source": [
    "!pip install -r requirements.txt"
   ]
  },
  {
   "cell_type": "code",
   "execution_count": 2,
   "id": "4c46cb70",
   "metadata": {},
   "outputs": [
    {
     "name": "stdout",
     "output_type": "stream",
     "text": [
      "Parsing html files: 100%|██████████████████| 14/14 [00:33<00:00,  2.36s/it]\n",
      "\n",
      "Processing Corpus: 100%|██████████████| 6727/6727 [00:14<00:00, 454.89it/s]\n",
      "\n",
      "\n",
      "Inverted index constructed in: 47.85 seconds\n",
      "Size of corpus: 6727 documents\n",
      "Inverted Index saved to disk\n"
     ]
    }
   ],
   "source": [
    " %run construct_index.py"
   ]
  },
  {
   "cell_type": "code",
   "execution_count": 3,
   "id": "80e9ca6e",
   "metadata": {},
   "outputs": [
    {
     "name": "stdout",
     "output_type": "stream",
     "text": [
      "Parsing html files: 100%|██████████████████| 14/14 [00:33<00:00,  2.42s/it]\n",
      "\n",
      "Processing Corpus: 100%|██████████████| 6727/6727 [00:15<00:00, 443.45it/s]\n",
      "\n",
      "\n",
      "Inverted index constructed in: 50.74 seconds\n",
      "Size of corpus: 6727 documents\n",
      "Inverted Index saved to disk\n"
     ]
    }
   ],
   "source": [
    " %run construct_index.py --zoned_index True"
   ]
  },
  {
   "cell_type": "code",
   "execution_count": 4,
   "id": "ca15fcfb",
   "metadata": {},
   "outputs": [
    {
     "name": "stdout",
     "output_type": "stream",
     "text": [
      "Loading dataset...\n",
      "Computing word similarities: 100%|██████████████████████| 289533/289533 [00:00<00:00, 780355.12it/s]\n",
      "\n",
      "Embeddings extracted and saved to disk\n"
     ]
    }
   ],
   "source": [
    "%run  trim_embeddings.py"
   ]
  },
  {
   "cell_type": "code",
   "execution_count": 5,
   "id": "e04c7114",
   "metadata": {},
   "outputs": [
    {
     "name": "stdout",
     "output_type": "stream",
     "text": [
      "Enter query here: superhero  movie\n",
      "Results obtained in 0.0009980201721191406 seconds\n",
      "--------------------------------------------------------------------------------------------------------------\n",
      "ID      Title                                                                                     Score\n",
      "--------------------------------------------------------------------------------------------------------------\n",
      "33560   The Wizard of Speed and Time                                                              0.08090\n",
      "12535   Golden Heroes                                                                             0.07859\n",
      "12549   GURPS Supers                                                                              0.07815\n",
      "32252   Unbreakable (film)                                                                        0.06530\n",
      "21494   Nerd                                                                                      0.05022\n",
      "27936   Spider-Man                                                                                0.04630\n",
      "931     The Amazing Spider-Man                                                                    0.04489\n",
      "7442    Clark Kent                                                                                0.04400\n",
      "11741   Fantasy film                                                                              0.04399\n",
      "16556   Jack Kirby                                                                                0.04369\n",
      "\n",
      "Do you want to continue? Enter y/n: y\n",
      "\n",
      "\n",
      "\n",
      "Enter query here: programming language\n",
      "Results obtained in 0.0019943714141845703 seconds\n",
      "--------------------------------------------------------------------------------------------------------------\n",
      "ID      Title                                                                                     Score\n",
      "--------------------------------------------------------------------------------------------------------------\n",
      "17178   KL0                                                                                       0.31425\n",
      "22758   List of object-oriented programming languages                                             0.26989\n",
      "17175   KISS (system)                                                                             0.25599\n",
      "17227   KRL (programming language)                                                                0.15329\n",
      "17224   Kent Recursive Calculator                                                                 0.14912\n",
      "17186   Klerer-May System                                                                         0.12842\n",
      "22693   Operator overloading                                                                      0.12759\n",
      "27550   List of Spanish-language poets                                                            0.11644\n",
      "32876   Word (disambiguation)                                                                     0.11456\n",
      "21642   Niklaus Wirth                                                                             0.11342\n",
      "\n",
      "Do you want to continue? Enter y/n: y\n",
      "\n",
      "\n",
      "\n",
      "Enter query here: sport  championship\n",
      "Results obtained in 0.0 seconds\n",
      "--------------------------------------------------------------------------------------------------------------\n",
      "ID      Title                                                                                     Score\n",
      "--------------------------------------------------------------------------------------------------------------\n",
      "33727   World cup competition                                                                     0.12936\n",
      "12422   List of gymnasts                                                                          0.12785\n",
      "16824   Korfball                                                                                  0.09353\n",
      "26547   Six Nations Championship                                                                  0.08003\n",
      "12564   Grappling                                                                                 0.07967\n",
      "1136    America's National Game                                                                   0.07865\n",
      "21592   Netball                                                                                   0.07738\n",
      "11247   Floorball                                                                                 0.07718\n",
      "32332   UEFA                                                                                      0.07444\n",
      "1022    Auto racing                                                                               0.07357\n",
      "\n",
      "Do you want to continue? Enter y/n: n\n"
     ]
    }
   ],
   "source": [
    "%run test_queries.py"
   ]
  },
  {
   "cell_type": "code",
   "execution_count": 6,
   "id": "373a6b32",
   "metadata": {},
   "outputs": [
    {
     "name": "stdout",
     "output_type": "stream",
     "text": [
      "Enter query here: programming language\n",
      "Results obtained in 0.0010151863098144531 seconds\n",
      "--------------------------------------------------------------------------------------------------------------\n",
      "ID      Title                                                                                     Score\n",
      "--------------------------------------------------------------------------------------------------------------\n",
      "23015   Programming language                                                                      0.17654\n",
      "18136   Literate programming                                                                      0.15686\n",
      "1242    Ada (programming language)                                                                0.15113\n",
      "22660   Occam (programming language)                                                              0.14672\n",
      "28119   Scheme (programming language)                                                             0.14184\n",
      "7575    CLU (programming language)                                                                0.14023\n",
      "18016   Lisp (programming language)                                                               0.13847\n",
      "7645    Cyclone (programming language)                                                            0.13709\n",
      "1451    APL (programming language)                                                                0.13645\n",
      "11367   Fourth-generation programming language                                                    0.13308\n",
      "\n",
      "Do you want to continue? Enter y/n: n\n"
     ]
    }
   ],
   "source": [
    "%run test_queries.py --score_title True"
   ]
  },
  {
   "cell_type": "code",
   "execution_count": 7,
   "id": "bfe3d8f0",
   "metadata": {},
   "outputs": [
    {
     "name": "stdout",
     "output_type": "stream",
     "text": [
      "Enter query here: sport championship\n",
      "Results obtained in 0.041887521743774414 seconds\n",
      "--------------------------------------------------------------------------------------------------------------\n",
      "ID      Title                                                                                     Score\n",
      "--------------------------------------------------------------------------------------------------------------\n",
      "33727   World cup competition                                                                     0.20315\n",
      "32332   UEFA                                                                                      0.14883\n",
      "11370   FIFA World Cup                                                                            0.13725\n",
      "7239    Cricket World Cup                                                                         0.13103\n",
      "11247   Floorball                                                                                 0.12121\n",
      "32780   Valencia CF                                                                               0.11158\n",
      "28028   Speed skating                                                                             0.10824\n",
      "11237   FA Cup                                                                                    0.10463\n",
      "21592   Netball                                                                                   0.10460\n",
      "26547   Six Nations Championship                                                                  0.10413\n",
      "\n",
      "Do you want to continue? Enter y/n: n\n"
     ]
    }
   ],
   "source": [
    "%run test_queries.py --expand_query True"
   ]
  },
  {
   "cell_type": "code",
   "execution_count": null,
   "id": "fa6d6ba1",
   "metadata": {},
   "outputs": [],
   "source": []
  }
 ],
 "metadata": {
  "kernelspec": {
   "display_name": "Python 3",
   "language": "python",
   "name": "python3"
  },
  "language_info": {
   "codemirror_mode": {
    "name": "ipython",
    "version": 3
   },
   "file_extension": ".py",
   "mimetype": "text/x-python",
   "name": "python",
   "nbconvert_exporter": "python",
   "pygments_lexer": "ipython3",
   "version": "3.9.4"
  }
 },
 "nbformat": 4,
 "nbformat_minor": 5
}
